{
 "cells": [
  {
   "cell_type": "code",
   "execution_count": 7,
   "metadata": {},
   "outputs": [],
   "source": [
    "import matplotlib.pyplot as plt\n",
    "import numpy as np\n",
    "from scipy.optimize import minimize_scalar, linprog"
   ]
  },
  {
   "cell_type": "markdown",
   "metadata": {},
   "source": [
    "### Plot First Function"
   ]
  },
  {
   "cell_type": "code",
   "execution_count": 70,
   "metadata": {},
   "outputs": [],
   "source": [
    "def print_a_function(f, values):\n",
    "    x = np.linspace(min(values), max(values), 100)\n",
    "    y = f(x)\n",
    "\n",
    "    plt.figure(figsize=(8, 6))\n",
    "    plt.plot(x, y, label=f'Function: {f.__name__}')\n",
    "    \n",
    "    # Plot values on the function\n",
    "    plt.scatter(values, [f(val) for val in values])\n",
    "\n",
    "    plt.xlabel('x')\n",
    "    plt.ylabel('f(x)')\n",
    "    plt.title(f'Plot of the function {f.__name__}')\n",
    "    plt.grid()\n",
    "    plt.legend()\n",
    "    plt.show()"
   ]
  },
  {
   "cell_type": "code",
   "execution_count": 73,
   "metadata": {},
   "outputs": [
    {
     "data": {
      "image/png": "[encoded data removed]",
      "text/plain": [
       "<Figure size 800x600 with 1 Axes>"
      ]
     },
     "metadata": {},
     "output_type": "display_data"
    }
   ],
   "source": [
    "f = lambda x : (x - 1)**4 + x**2\n",
    "f.__name__ = 'f(x) = (x - 1)^4 + x^2'\n",
    "print_a_function(f, [-2, 3])"
   ]
  },
  {
   "cell_type": "code",
   "execution_count": 76,
   "metadata": {},
   "outputs": [],
   "source": [
    "#dichotomous algorithm (bisection method)\n",
    "\n",
    "def find_root_bisection(f, min_val, max_val):\n",
    "    precision = 0.0001\n",
    "    while abs(max_val - min_val) > precision:\n",
    "        mid = (min_val + max_val) / 2.0\n",
    "        if abs(f(mid)) < precision:\n",
    "            return mid\n",
    "        elif f(min_val) * f(mid) < 0:\n",
    "            max_val = mid\n",
    "        else:\n",
    "            min_val = mid\n",
    "    return (min_val + max_val) / 2.0\n"
   ]
  },
  {
   "cell_type": "code",
   "execution_count": 83,
   "metadata": {},
   "outputs": [],
   "source": [
    "#def find_root_newton_raphson(f, f_deriv, min_val, max_val):\n",
    "#    precision = 0.001\n",
    "#    mid = (min_val + max_val) / 2.0\n",
    "\n",
    "#    while abs(f(mid)) > precision:\n",
    "#        mid = mid - f(mid) / f_deriv(mid)\n",
    "\n",
    "#    return mid"
   ]
  },
  {
   "cell_type": "code",
   "execution_count": 84,
   "metadata": {},
   "outputs": [],
   "source": [
    "def find_root_newton_raphson(f, f_deriv):\n",
    "    precision = 0.001\n",
    "    mid = 0.0  # Default initial guess\n",
    "\n",
    "    while abs(f(mid)) > precision:\n",
    "        mid = mid - f(mid) / f_deriv(mid)\n",
    "\n",
    "    return mid"
   ]
  },
  {
   "cell_type": "code",
   "execution_count": 85,
   "metadata": {},
   "outputs": [
    {
     "ename": "KeyboardInterrupt",
     "evalue": "",
     "output_type": "error",
     "traceback": [
      "\u001b[1;31m---------------------------------------------------------------------------\u001b[0m",
      "\u001b[1;31mKeyboardInterrupt\u001b[0m                         Traceback (most recent call last)",
      "Cell \u001b[1;32mIn[85], line 7\u001b[0m\n\u001b[0;32m      2\u001b[0m f_prime \u001b[38;5;241m=\u001b[39m \u001b[38;5;28;01mlambda\u001b[39;00m x: \u001b[38;5;241m4\u001b[39m \u001b[38;5;241m*\u001b[39m (x \u001b[38;5;241m-\u001b[39m \u001b[38;5;241m1\u001b[39m)\u001b[38;5;241m*\u001b[39m\u001b[38;5;241m*\u001b[39m\u001b[38;5;241m3\u001b[39m \u001b[38;5;241m+\u001b[39m \u001b[38;5;241m2\u001b[39m\n\u001b[0;32m      4\u001b[0m \u001b[38;5;66;03m#root = find_root_bisection(f, -2, 2)\u001b[39;00m\n\u001b[0;32m      5\u001b[0m \u001b[38;5;66;03m#print(root)\u001b[39;00m\n\u001b[1;32m----> 7\u001b[0m root_newton \u001b[38;5;241m=\u001b[39m find_root_newton_raphson(f, f_prime)\n\u001b[0;32m      8\u001b[0m \u001b[38;5;28mprint\u001b[39m(root_newton)\n",
      "Cell \u001b[1;32mIn[84], line 5\u001b[0m, in \u001b[0;36mfind_root_newton_raphson\u001b[1;34m(f, f_deriv)\u001b[0m\n\u001b[0;32m      2\u001b[0m precision \u001b[38;5;241m=\u001b[39m \u001b[38;5;241m0.001\u001b[39m\n\u001b[0;32m      3\u001b[0m mid \u001b[38;5;241m=\u001b[39m \u001b[38;5;241m0.0\u001b[39m  \u001b[38;5;66;03m# Default initial guess\u001b[39;00m\n\u001b[1;32m----> 5\u001b[0m \u001b[38;5;28;01mwhile\u001b[39;00m \u001b[38;5;28mabs\u001b[39m(f(mid)) \u001b[38;5;241m>\u001b[39m precision:\n\u001b[0;32m      6\u001b[0m     mid \u001b[38;5;241m=\u001b[39m mid \u001b[38;5;241m-\u001b[39m f(mid) \u001b[38;5;241m/\u001b[39m f_deriv(mid)\n\u001b[0;32m      8\u001b[0m \u001b[38;5;28;01mreturn\u001b[39;00m mid\n",
      "Cell \u001b[1;32mIn[85], line 1\u001b[0m, in \u001b[0;36m<lambda>\u001b[1;34m(x)\u001b[0m\n\u001b[1;32m----> 1\u001b[0m f \u001b[38;5;241m=\u001b[39m \u001b[38;5;28;01mlambda\u001b[39;00m x: \u001b[38;5;241m4\u001b[39m \u001b[38;5;241m*\u001b[39m (x \u001b[38;5;241m-\u001b[39m \u001b[38;5;241m1\u001b[39m)\u001b[38;5;241m*\u001b[39m\u001b[38;5;241m*\u001b[39m\u001b[38;5;241m3\u001b[39m \u001b[38;5;241m+\u001b[39m \u001b[38;5;241m2\u001b[39m \u001b[38;5;241m*\u001b[39m x\n\u001b[0;32m      2\u001b[0m f_prime \u001b[38;5;241m=\u001b[39m \u001b[38;5;28;01mlambda\u001b[39;00m x: \u001b[38;5;241m4\u001b[39m \u001b[38;5;241m*\u001b[39m (x \u001b[38;5;241m-\u001b[39m \u001b[38;5;241m1\u001b[39m)\u001b[38;5;241m*\u001b[39m\u001b[38;5;241m*\u001b[39m\u001b[38;5;241m3\u001b[39m \u001b[38;5;241m+\u001b[39m \u001b[38;5;241m2\u001b[39m\n\u001b[0;32m      4\u001b[0m \u001b[38;5;66;03m#root = find_root_bisection(f, -2, 2)\u001b[39;00m\n\u001b[0;32m      5\u001b[0m \u001b[38;5;66;03m#print(root)\u001b[39;00m\n",
      "\u001b[1;31mKeyboardInterrupt\u001b[0m: "
     ]
    }
   ],
   "source": [
    "f = lambda x: 4 * (x - 1)**3 + 2 * x\n",
    "f_prime = lambda x: 4 * (x - 1)**3 + 2\n",
    "\n",
    "#root = find_root_bisection(f, -2, 2)\n",
    "#print(root)\n",
    "\n",
    "root_newton = find_root_newton_raphson(f, f_prime)\n",
    "print(root_newton)"
   ]
  },
  {
   "cell_type": "markdown",
   "metadata": {},
   "source": [
    "### Brent's Algoright and Plots"
   ]
  },
  {
   "cell_type": "code",
   "execution_count": 27,
   "metadata": {},
   "outputs": [
    {
     "name": "stdout",
     "output_type": "stream",
     "text": [
      "x_min: 0.41, f(x_min): 0.29\n"
     ]
    },
    {
     "data": {
      "text/plain": [
       "<matplotlib.legend.Legend at 0x1e5a7c3c1d0>"
      ]
     },
     "execution_count": 27,
     "metadata": {},
     "output_type": "execute_result"
    },
    {
     "data": {
      "image/png": "[encoded data removed]",
      "text/plain": [
       "<Figure size 640x480 with 1 Axes>"
      ]
     },
     "metadata": {},
     "output_type": "display_data"
    }
   ],
   "source": [
    "#brent's algorithm\n",
    "\n",
    "res = minimize_scalar(f, method='brent')\n",
    "print('x_min: {:.2f}, f(x_min): {:.2f}'.format(res.x, res.fun))\n",
    "\n",
    "# plot curve\n",
    "x = np.linspace(res.x - 1, res.x + 1, 100)\n",
    "y = [f(val) for val in x]\n",
    "plt.plot(x, y, color='blue', label='f')\n",
    "\n",
    "# plot optima\n",
    "plt.scatter(res.x, res.fun, color='red', marker='x', label='Minimum')\n",
    "\n",
    "plt.grid()\n",
    "plt.legend(loc = 1)"
   ]
  },
  {
   "cell_type": "markdown",
   "metadata": {},
   "source": [
    "### Gradient Descent Methods"
   ]
  },
  {
   "cell_type": "code",
   "execution_count": 5,
   "metadata": {},
   "outputs": [],
   "source": [
    "def gradient_descent(f, f_prime, start, learning_rate=0.1, precision=0.001, max_iter=1000): #iteration is limited to prevent infinite loop\n",
    "    x = start\n",
    "    for i in range(max_iter): \n",
    "        x = x - learning_rate * f_prime(x) #gradient = f_prime(x)\n",
    "        if abs(f_prime(x)) < precision: #if achieved the minimum - stop\n",
    "            break\n",
    "    return x"
   ]
  },
  {
   "cell_type": "code",
   "execution_count": 6,
   "metadata": {},
   "outputs": [
    {
     "name": "stdout",
     "output_type": "stream",
     "text": [
      "x_min: 0.41, f(x_min): 0.29\n"
     ]
    }
   ],
   "source": [
    "f = lambda x : (x - 1) ** 4 + x ** 2\n",
    "f_prime = lambda x : 4*((x-1)**3) + 2*x\n",
    "start = -1\n",
    "x_min = gradient_descent(f, f_prime, start, 0.01)\n",
    "f_min = f(x_min)\n",
    "\n",
    "print('x_min: {:.2f}, f(x_min): {:.2f}'.format(x_min, f_min))"
   ]
  },
  {
   "cell_type": "markdown",
   "metadata": {},
   "source": [
    "### Simplex Method"
   ]
  },
  {
   "cell_type": "markdown",
   "metadata": {},
   "source": [
    "#### Solve Linear Problem\n",
    "\n",
    "Maximize: z = x + 2y\n",
    "\n",
    "Subject to:\n",
    "2x + y ≤ 10 |\n",
    "-4x + 5y ≤ 8 |\n",
    "x - 2y ≤ 3 |\n",
    "x, y ≥ 0"
   ]
  },
  {
   "cell_type": "code",
   "execution_count": 19,
   "metadata": {},
   "outputs": [],
   "source": [
    "def solve_linear_problem(A, b, c):\n",
    "    result = linprog(c, A_ub=A, b_ub=b, method='highs') #simplex is depreciated, thus 'highs'\n",
    "    optimal_value = result.fun #float optimal value of the function \n",
    "    optimal_arg = result.x #list of optimal arguments as 1-d array that minimizes the obj function while meeting constraints\n",
    "    return optimal_value, optimal_arg"
   ]
  },
  {
   "cell_type": "markdown",
   "metadata": {},
   "source": [
    "#### Initialize A, b, c and numpy arrays"
   ]
  },
  {
   "cell_type": "code",
   "execution_count": 12,
   "metadata": {},
   "outputs": [],
   "source": [
    "A = np.array([[2,1],[-4,5],[1,-2]]) #matrix [x,y] of each function - f(x) 10 = 2x + y | f(y) 8 = -4x + 5y | f(z) 3 = x - 2y\n",
    "b = np.array([10,8,3]) #vector - function values\n",
    "c = np.array([-1,-2]) #vector coefficients"
   ]
  },
  {
   "cell_type": "code",
   "execution_count": 48,
   "metadata": {},
   "outputs": [
    {
     "name": "stdout",
     "output_type": "stream",
     "text": [
      "The optimal value is: -11.0 \n",
      "The optimal arguments are: [3. 4.]\n"
     ]
    }
   ],
   "source": [
    "optimal_value, optimal_arg = solve_linear_problem(A, b, c)\n",
    "\n",
    "print(\"The optimal value is:\", optimal_value,\"\\nThe optimal arguments are:\",optimal_arg)"
   ]
  }
 ],
 "metadata": {
  "kernelspec": {
   "display_name": "Python 3",
   "language": "python",
   "name": "python3"
  },
  "language_info": {
   "codemirror_mode": {
    "name": "ipython",
    "version": 3
   },
   "file_extension": ".py",
   "mimetype": "text/x-python",
   "name": "python",
   "nbconvert_exporter": "python",
   "pygments_lexer": "ipython3",
   "version": "3.11.5"
  }
 },
 "nbformat": 4,
 "nbformat_minor": 2
}
